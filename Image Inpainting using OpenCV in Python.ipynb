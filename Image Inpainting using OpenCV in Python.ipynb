{
 "cells": [
  {
   "cell_type": "code",
   "execution_count": 3,
   "id": "caf3d5cc",
   "metadata": {},
   "outputs": [
    {
     "name": "stdout",
     "output_type": "stream",
     "text": [
      "Usage: Python Inpaint\n",
      "Keys: \n",
      "f - inpaint using FMM\n",
      "n - inpaint using NS technique\n",
      "r - reset the inpaint mask\n",
      "ESC - exit\n"
     ]
    },
    {
     "name": "stderr",
     "output_type": "stream",
     "text": [
      "[ WARN:0@89.324] global /Users/runner/work/opencv-python/opencv-python/opencv/modules/imgcodecs/src/loadsave.cpp (239) findDecoder imread_('Downloads/Image_Inpainting-main/pipes.jpeg'): can't open/read file: check file path/integrity\n"
     ]
    },
    {
     "ename": "AttributeError",
     "evalue": "'NoneType' object has no attribute 'copy'",
     "output_type": "error",
     "traceback": [
      "\u001b[0;31m---------------------------------------------------------------------------\u001b[0m",
      "\u001b[0;31mAttributeError\u001b[0m                            Traceback (most recent call last)",
      "\u001b[0;32m/var/folders/jf/shz9f6fd6cnb1v_27t5x874m0000gn/T/ipykernel_4112/3202326599.py\u001b[0m in \u001b[0;36m<module>\u001b[0;34m\u001b[0m\n\u001b[1;32m     66\u001b[0m \u001b[0;34m\u001b[0m\u001b[0m\n\u001b[1;32m     67\u001b[0m \u001b[0;32mif\u001b[0m \u001b[0m__name__\u001b[0m \u001b[0;34m==\u001b[0m \u001b[0;34m'__main__'\u001b[0m\u001b[0;34m:\u001b[0m\u001b[0;34m\u001b[0m\u001b[0;34m\u001b[0m\u001b[0m\n\u001b[0;32m---> 68\u001b[0;31m     \u001b[0mmain\u001b[0m\u001b[0;34m(\u001b[0m\u001b[0;34m)\u001b[0m\u001b[0;34m\u001b[0m\u001b[0;34m\u001b[0m\u001b[0m\n\u001b[0m\u001b[1;32m     69\u001b[0m     \u001b[0mcv\u001b[0m\u001b[0;34m.\u001b[0m\u001b[0mdestroyAllWindows\u001b[0m\u001b[0;34m(\u001b[0m\u001b[0;34m)\u001b[0m\u001b[0;34m\u001b[0m\u001b[0;34m\u001b[0m\u001b[0m\n",
      "\u001b[0;32m/var/folders/jf/shz9f6fd6cnb1v_27t5x874m0000gn/T/ipykernel_4112/3202326599.py\u001b[0m in \u001b[0;36mmain\u001b[0;34m()\u001b[0m\n\u001b[1;32m     41\u001b[0m     \u001b[0mimg\u001b[0m \u001b[0;34m=\u001b[0m \u001b[0mcv\u001b[0m\u001b[0;34m.\u001b[0m\u001b[0mimread\u001b[0m\u001b[0;34m(\u001b[0m\u001b[0;34m\"Downloads/Image_Inpainting-main/pipes.jpeg\"\u001b[0m\u001b[0;34m)\u001b[0m  \u001b[0;31m#Input image to work on\u001b[0m\u001b[0;34m\u001b[0m\u001b[0;34m\u001b[0m\u001b[0m\n\u001b[1;32m     42\u001b[0m \u001b[0;34m\u001b[0m\u001b[0m\n\u001b[0;32m---> 43\u001b[0;31m     \u001b[0mimg_mask\u001b[0m \u001b[0;34m=\u001b[0m \u001b[0mimg\u001b[0m\u001b[0;34m.\u001b[0m\u001b[0mcopy\u001b[0m\u001b[0;34m(\u001b[0m\u001b[0;34m)\u001b[0m \u001b[0;31m# Create a copy of the image\u001b[0m\u001b[0;34m\u001b[0m\u001b[0;34m\u001b[0m\u001b[0m\n\u001b[0m\u001b[1;32m     44\u001b[0m \u001b[0;34m\u001b[0m\u001b[0m\n\u001b[1;32m     45\u001b[0m     \u001b[0minpainted_mask_img\u001b[0m \u001b[0;34m=\u001b[0m \u001b[0mnp\u001b[0m\u001b[0;34m.\u001b[0m\u001b[0mzeros\u001b[0m\u001b[0;34m(\u001b[0m\u001b[0mimg\u001b[0m\u001b[0;34m.\u001b[0m\u001b[0mshape\u001b[0m\u001b[0;34m[\u001b[0m\u001b[0;36m0\u001b[0m\u001b[0;34m:\u001b[0m\u001b[0;36m2\u001b[0m\u001b[0;34m]\u001b[0m\u001b[0;34m,\u001b[0m \u001b[0mnp\u001b[0m\u001b[0;34m.\u001b[0m\u001b[0muint8\u001b[0m\u001b[0;34m)\u001b[0m \u001b[0;31m#Create a black mask image from the given input image, uint8(unsigned 8 bit integer) is the datatype of image\u001b[0m\u001b[0;34m\u001b[0m\u001b[0;34m\u001b[0m\u001b[0m\n",
      "\u001b[0;31mAttributeError\u001b[0m: 'NoneType' object has no attribute 'copy'"
     ]
    }
   ],
   "source": [
    "import numpy as np\n",
    "import cv2 as cv\n",
    "import sys\n",
    "\n",
    "class Sketcher:\n",
    "    def __init__(self, windowname, dests, colors_func):\n",
    "        self.prev_pt = None\n",
    "        self.windowname = windowname\n",
    "        self.dests = dests\n",
    "        self.colors_func = colors_func\n",
    "        self.dirty = False  #Dirty function checks if image has been dirtied (drawn over)\n",
    "        self.show()\n",
    "        cv.setMouseCallback(self.windowname, self.on_mouse)\n",
    "\n",
    "    def show(self):\n",
    "        cv.imshow(self.windowname, self.dests[0]) #Original Image\n",
    "        cv.imshow(self.windowname+\": Mask\",self.dests[1]) # Masked Image\n",
    "        \n",
    "    def on_mouse(self, event, x, y, flags, param):\n",
    "        pt = (x,y)\n",
    "        if event == cv.EVENT_LBUTTONDOWN: #Left click\n",
    "            self.prev_pt = pt\n",
    "        elif event == cv.EVENT_LBUTTONUP:\n",
    "            self.prev_pt = None\n",
    "        if self.prev_pt and flags & cv.EVENT_FLAG_LBUTTON:\n",
    "            for dst, color in zip(self.dests, self.colors_func()):\n",
    "                cv.line(dst,self.prev_pt, pt, color, 60)\n",
    "            self.dirty = True\n",
    "            self.prev_pt = pt\n",
    "            self.show()\n",
    "\n",
    "\n",
    "def main():\n",
    "    print(\"Usage: Python Inpaint\")\n",
    "    print(\"Keys: \")\n",
    "    print(\"f - inpaint using FMM\")\n",
    "    print(\"n - inpaint using NS technique\")\n",
    "    print(\"r - reset the inpaint mask\")\n",
    "    print(\"ESC - exit\")\n",
    "\n",
    "    img = cv.imread(\"Downloads/Image_Inpainting-main/pipes.jpeg\")  #Input image to work on\n",
    "\n",
    "    img_mask = img.copy() # Create a copy of the image\n",
    "\n",
    "    inpainted_mask_img = np.zeros(img.shape[0:2], np.uint8) #Create a black mask image from the given input image, uint8(unsigned 8 bit integer) is the datatype of image \n",
    "\n",
    "    sketch = Sketcher('image',[img_mask, inpainted_mask_img], lambda :((255,255,255), 255)) # Returns the original image,masked image and the mask and lambda function defines that white line is to be drawn\n",
    "\n",
    "    while True:\n",
    "        ch = cv.waitKey(0)  # Take input from user on what to do\n",
    "\n",
    "        if ch == 27: # ASCII code for esc key\n",
    "            break\n",
    "        if ch == ord('f'): #If f is pressed , FMM Method is used\n",
    "            res = cv.inpaint(src=img_mask, inpaintMask=inpainted_mask_img, inpaintRadius=3, flags=cv.INPAINT_TELEA)\n",
    "            cv.imshow(\"Inpaint output using FMM\",res)\n",
    "        if ch == ord('n'): # If n is pressed NS Method is used\n",
    "            res = cv.inpaint(src=img_mask, inpaintMask=inpainted_mask_img, inpaintRadius=3, flags=cv.INPAINT_NS)\n",
    "            cv.imshow(\"Inpaint output using NS\",res)\n",
    "        if ch == ord('r'):\n",
    "            img_mask[:] = img\n",
    "            inpainted_mask_img[:]=0 #Removes white lines drawn on image\n",
    "            sketch.show()\n",
    "    print(\"Completed\")\n",
    "\n",
    "\n",
    "if __name__ == '__main__':\n",
    "    main()\n",
    "    cv.destroyAllWindows()"
   ]
  }
 ],
 "metadata": {
  "kernelspec": {
   "display_name": "Python 3 (ipykernel)",
   "language": "python",
   "name": "python3"
  },
  "language_info": {
   "codemirror_mode": {
    "name": "ipython",
    "version": 3
   },
   "file_extension": ".py",
   "mimetype": "text/x-python",
   "name": "python",
   "nbconvert_exporter": "python",
   "pygments_lexer": "ipython3",
   "version": "3.9.13"
  }
 },
 "nbformat": 4,
 "nbformat_minor": 5
}
